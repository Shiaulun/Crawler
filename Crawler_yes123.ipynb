{
 "cells": [
  {
   "cell_type": "markdown",
   "metadata": {},
   "source": [
    "## 先尋找職業所需的工作技能"
   ]
  },
  {
   "cell_type": "markdown",
   "metadata": {},
   "source": [
    "## 先爬取外層頁"
   ]
  },
  {
   "cell_type": "code",
   "execution_count": 1,
   "metadata": {
    "collapsed": true
   },
   "outputs": [],
   "source": [
    "import requests\n",
    "import re\n",
    "from bs4 import BeautifulSoup\n",
    "import jieba\n",
    "from jieba.analyse import extract_tags\n",
    "from collections import Counter"
   ]
  },
  {
   "cell_type": "code",
   "execution_count": 2,
   "metadata": {
    "collapsed": true
   },
   "outputs": [],
   "source": [
    "#取得爬取網頁資訊所需的form data\n",
    "payload = \"\"\"find_key1:{}\n",
    "strrec:\n",
    "search_key_word:{}\n",
    "search_type:job\n",
    "us_menu:\n",
    "search_item:1\n",
    "search_from:index\"\"\".format(\"程式設計師\",\"程式設計師\")  #format內容為要查詢的職業"
   ]
  },
  {
   "cell_type": "code",
   "execution_count": 3,
   "metadata": {
    "collapsed": true
   },
   "outputs": [],
   "source": [
    "#使用一個function將form data轉換成dict的key-value pair才可放到requests的query中\n",
    "def str2dict(data_str):\n",
    "    data = {}\n",
    "    for row in data_str.split('\\n'):\n",
    "        kv_list = row.split(\":\")\n",
    "        data[kv_list[0]] = kv_list[1]\n",
    "    return data"
   ]
  },
  {
   "cell_type": "code",
   "execution_count": 4,
   "metadata": {},
   "outputs": [
    {
     "data": {
      "text/plain": [
       "{'find_key1': '程式設計師',\n",
       " 'search_from': 'index',\n",
       " 'search_item': '1',\n",
       " 'search_key_word': '程式設計師',\n",
       " 'search_type': 'job',\n",
       " 'strrec': '',\n",
       " 'us_menu': ''}"
      ]
     },
     "execution_count": 4,
     "metadata": {},
     "output_type": "execute_result"
    }
   ],
   "source": [
    "#測試一下看form data是否正確轉換成dict的key-value pair\n",
    "data = str2dict(payload)\n",
    "data"
   ]
  },
  {
   "cell_type": "code",
   "execution_count": 5,
   "metadata": {
    "collapsed": true
   },
   "outputs": [],
   "source": [
    "def total_pages(html,formdata):\n",
    "    formdata = str2dict(formdata)\n",
    "    res = requests.post(html,data = formdata)\n",
    "    res.encoding = 'utf8'\n",
    "    soup = BeautifulSoup(res.text,'lxml')\n",
    "    td_tag = soup.select_one('#top_title').find(lambda x: x.get('align') == 'right')\n",
    "    pages = int(re.findall('\\d+',td_tag.text)[2])\n",
    "    return pages"
   ]
  },
  {
   "cell_type": "code",
   "execution_count": 6,
   "metadata": {
    "collapsed": true
   },
   "outputs": [],
   "source": [
    "all_pages = total_pages(\"https://www.yes123.com.tw/admin/job_refer_list.asp\",payload)"
   ]
  },
  {
   "cell_type": "code",
   "execution_count": 7,
   "metadata": {},
   "outputs": [
    {
     "data": {
      "text/plain": [
       "<td align=\"right\">\n",
       "                            407 筆，\n",
       "\t\t\t\t\t\t\t第1 / 21頁\n",
       "\t\t\t\t\t</td>"
      ]
     },
     "execution_count": 7,
     "metadata": {},
     "output_type": "execute_result"
    }
   ],
   "source": [
    "# Pagination\n",
    "\n",
    "res = requests.post(\"https://www.yes123.com.tw/admin/job_refer_list.asp\",data=data)\n",
    "res.encoding = 'utf8'\n",
    "soup = BeautifulSoup(res.text,'lxml')\n",
    "td_tag = soup.select_one(\"#top_title\").find(lambda x: x.get('align') == 'right')\n",
    "td_tag"
   ]
  },
  {
   "cell_type": "code",
   "execution_count": 8,
   "metadata": {},
   "outputs": [
    {
     "data": {
      "text/plain": [
       "407"
      ]
     },
     "execution_count": 8,
     "metadata": {},
     "output_type": "execute_result"
    }
   ],
   "source": [
    "total_records = int(re.findall('\\d+',td_tag.text)[0])\n",
    "total_records"
   ]
  },
  {
   "cell_type": "code",
   "execution_count": 9,
   "metadata": {},
   "outputs": [
    {
     "data": {
      "text/plain": [
       "21"
      ]
     },
     "execution_count": 9,
     "metadata": {},
     "output_type": "execute_result"
    }
   ],
   "source": [
    "#算出總頁數\n",
    "total_page = int(total_records / 20) + 1\n",
    "total_page"
   ]
  },
  {
   "cell_type": "code",
   "execution_count": 10,
   "metadata": {},
   "outputs": [
    {
     "data": {
      "text/plain": [
       "7"
      ]
     },
     "execution_count": 10,
     "metadata": {},
     "output_type": "execute_result"
    }
   ],
   "source": [
    "#算出最後一頁有幾筆\n",
    "last_page = int(total_records % 20)\n",
    "last_page"
   ]
  },
  {
   "cell_type": "code",
   "execution_count": 23,
   "metadata": {
    "collapsed": true
   },
   "outputs": [],
   "source": [
    "Links = []\n",
    "for i in range(0,all_pages):\n",
    "    data['strrec'] = i*20\n",
    "    # data = str2dict(payload)\n",
    "    # data\n",
    "\n",
    "    res = requests.post(\"https://www.yes123.com.tw/admin/job_refer_list.asp\",data=data)\n",
    "    res.encoding = 'utf8'\n",
    "    #     res.text\n",
    "\n",
    "    soup = BeautifulSoup(res.text,'lxml')\n",
    "        # 取得所有工作職缺\n",
    "    titles =[job['title'] for job in soup.select('a.jobname')]\n",
    "\n",
    "\n",
    "        # 取得所有工作職缺的連結\n",
    "    urls = [job['href'] for job in soup.select('a.jobname')]\n",
    "    uri = \"https://www.yes123.com.tw/admin/\"\n",
    "    for links in urls:\n",
    "        Links.append(uri+links)\n",
    "#     job_list = []\n",
    "#     for title,url in zip(titles, urls):\n",
    "#         job_dict = {}\n",
    "#         job_dict['title']  = title\n",
    "#         job_dict['url'] = uri + url\n",
    "#         job_list.append(job_dict)\n",
    "#     Links.append(job_list)\n",
    "# Links\n",
    "#         Links.append(job_list)\n"
   ]
  },
  {
   "cell_type": "code",
   "execution_count": 20,
   "metadata": {},
   "outputs": [
    {
     "data": {
      "text/plain": [
       "407"
      ]
     },
     "execution_count": 20,
     "metadata": {},
     "output_type": "execute_result"
    }
   ],
   "source": [
    "len(Links)"
   ]
  },
  {
   "cell_type": "code",
   "execution_count": 30,
   "metadata": {},
   "outputs": [
    {
     "name": "stdout",
     "output_type": "stream",
     "text": [
      "[('ms sql', 78), ('html', 69), ('java', 62), ('asp.net', 54), ('word', 52), ('excel', 52), ('powerpoint', 50), ('oracle', 49), ('mysql', 48), ('php', 43), ('java script', 41), ('c#', 25), ('jquery', 25), ('c#.net', 24), ('linux', 24), ('asp', 22), ('outlook', 22), ('vb', 21), ('ajax', 20), ('jsp', 19), ('普通小型車', 17), ('c++', 17), (' 輕型機車', 16), ('windows', 14), ('pl', 14), ('css', 13), ('sql', 13), ('dhtml', 12), ('visual c++', 12), ('vb .net', 11), ('dreamweaver', 10), ('android', 10), ('ios', 10), ('c', 9), ('delphi', 9), ('web master', 8), ('developer', 8), ('j2ee', 8), ('photoshop', 8), (' 普通重型機車', 7), ('xml web services', 7), (' 軟體', 7), ('ip', 7), ('spring', 6), ('unix', 6), ('visual studio .net', 6), ('visual studio', 6), ('c++作業系統', 6), ('軟體工程系統開發', 6), ('軟體', 6), ('網路', 6), ('作業系統', 6), ('jquery作業系統', 6), ('普通重型機車', 5), ('javascript', 5), ('系統整合分析', 5), ('軟體應用', 5), ('access繪圖軟體', 5), ('xml', 5), ('tcp', 5), ('php作業系統', 5), ('outlook作業系統', 4), ('windows nt', 4), ('java作業系統', 4), ('visual c#', 4), ('java script網路技術', 4), ('phpc++作業系統', 4), ('activex多媒體軟體', 4), ('adobe acrobat', 4), ('windows 2000', 4), ('工作內容 ', 4), ('結構化', 4), ('xhtml', 4), (' 系統維護操作', 4), ('illustrator', 4), ('postgresql', 4), ('tomcat', 3), ('visio', 3), ('struts', 3), ('swift', 3), ('c++.net', 3), ('firewall', 3), ('windows xp', 3), ('flash', 3), (' 普通小型車', 3), ('jsp作業系統', 3), ('actionscript', 3), ('http', 3), ('objective-c', 3), ('flash\\n具備駕照 ', 3), ('internet explorer', 3), ('mysql伺服器及管理', 3), ('java script寫過人機介面整合者佳\\n具備駕照 ', 2), ('ms sql\\n具備駕照 ', 2), ('xml伺服器及管理', 2), ('websphere', 2), ('jdbc', 2), ('java script具 程式開發(c#', 2), ('asp.net mvc', 2), ('jquery ) 經驗 \\n\\n具備駕照 ', 2), ('jsf', 2), (' 系統架構規劃', 2), ('arcgis', 2), ('系統維護操作', 2), ('軟體整合測試', 2), ('系統管理維護', 2), ('windows 7', 2), ('servlets', 2), ('weblogic', 2), (' 系統管理維護', 2), ('ruby', 2), ('rdbms', 2), (' java', 2), ('java script\\n具備駕照 ', 2), (' asp.net\\nc#\\nvisual studio .net\\njavascript\\nmvc\\nms sql', 2), ('java script\\n取得認證 ', 2), (' \\r\\n\\t\\t\\t   tqc專業網站程式開發工程師\\xa0\\xa0tqc專業工程師\\xa0\\xa0tqc-pd-java\\xa0\\xa0乙級電腦軟體設計技術士-c++\\xa0\\xa0\\n\\n具備駕照 ', 2), (' 輕型機車\\n交通工具 ', 2), ('delphi作業系統', 2), ('objective-cerp', 2), ('visual studio作業系統', 2), ('vmware網路技術', 2), ('iis', 2), ('winform', 2), (' ＜＜職務說明＞＞＊軟體設計。＊編寫程式碼及註解。＊執行單元及系統整合測試。＜＜職務要求＞＞＊熟悉c', 2), ('c++語言及win 32 api軟體編程，2年或以上相關工作經驗。＊熟悉多線程', 2), ('網路或編程，1年相關工作經驗。＊熟悉物件導向，了解設計模式及軟體架構優先考慮。＊有linux c++編程經驗優先考慮。＜＜＞＞ 資訊網路 - 類', 2), (' - html 5', 2), (' javascript', 2), (' css', 2), ('- restful web services', 2), ('- 物件導向軟體開發', 2), ('mac os', 2), ('cisco', 2), ('軟硬體設備成本控制', 2), ('軟體品質與保證', 2), ('韌體工程開發', 2), (' android', 2), ('鼎新\\n具備駕照 ', 2), ('cgi', 2), ('vbvb', 2), ('lotusscript', 2), ('dreamweaver多媒體軟體', 2), (' 語言要求 ( javascript ', 2), (' html', 2), (' css)', 2), ('frontpage', 2), (' 需有關聯式', 2), ('sql語言等語言相關專業知識。需具系統管理維護等。。', 2), ('powerbuilder', 2), ('企業資源規劃管理(erp)', 2), ('mfc', 2), ('linux伺服器及管理', 2), ('html網路技術', 2), (' 技術士能檢定電腦軟體應用 技術士能檢定電腦軟體應用 丙級', 2), (' 丙級', 2), (' 技術士能檢定電腦硬體裝 技術士能檢定電腦硬體裝 修丙級', 2), (' windows 7 configuringwindows 7 configuring windows 7 configuring windows 7 configuringwindows 7 configuring windows 7 configuring windows', 2), ('perl作業系統', 2), ('shell', 2), ('sqr', 2), ('access', 2), ('java script作業系統', 1), ('java scriptasp.net\\nc#', 1), ('css需具備技能php mysql javascript html5 css3', 1), ('java script- php\\n  - mysql\\n  - javascript', 1), ('c++.netc++', 1), (' 能獨立完成自己撰寫的網站程式', 1), (' 對排序seo有了解', 1), (' 最新pwa研究者最佳', 1), ('cobol', 1), ('spring作業系統', 1), (' 程式開發經驗(asp.net  c#)', 1), ('mysql程式開發經驗(asp.net  c#)', 1), (' 具基本程式開發能力', 1), ('mysql具基本程式開發能力', 1), ('java script伺服器及管理', 1), ('weblogicjquery', 1), ('hibernate', 1), ('jpa', 1), ('jasperreports', 1), ('erp', 1), ('dhtml伺服器及管理', 1), ('uml測試╱安全', 1), ('version controloop', 1), (' 具地理資訊系統相關經驗或資訊背景者為佳 熟arcgis或其他gis 軟體', 1), ('地理資訊類', 1), ('gis', 1), ('html\\n具備駕照 ', 1), ('vb .netvb', 1), ('visual j#visual j++', 1), ('sapdb', 1), ('security通訊傳輸類', 1), ('telecom資訊管理統計', 1), ('cvs', 1), ('san', 1), ('nas', 1), ('sap', 1), (' 伺服器網站管理維護', 1), ('作業系統基本操作', 1)]\n"
     ]
    }
   ],
   "source": [
    "cnt = Counter()\n",
    "for Link in Links:\n",
    "    try:\n",
    "        all_links = Link\n",
    "        url2 = all_links\n",
    "        res2 = requests.get(url2)\n",
    "        soup = BeautifulSoup(res2.text, 'lxml')\n",
    "           \n",
    "\n",
    "        for pcskill in soup.select('.comp_detail > ul > li'):\n",
    "\n",
    "            if re.findall('電腦技能|工作技能',pcskill.text) and not re.findall('\\d+\\.',pcskill.text) :\n",
    "                skill =pcskill.text.replace('電腦技能','').replace(' 未填寫','').replace('辦公室應用','').replace('、',',').replace('工作技能','').replace('網頁技術','').replace('程式設計','').replace('資料庫','').replace('：',',').replace('/',',').replace('／',',').replace(',,',',').strip()\n",
    "                skill = skill.lower()\n",
    "#                 print(skill.split(','))\n",
    "\n",
    "                for skills in skill.split(','):\n",
    "                    if re.findall('\\w+',skills):\n",
    "\n",
    "                        if skills in cnt:\n",
    "                            cnt[skills] += 1\n",
    "                        else:\n",
    "                            cnt[skills] = 1\n",
    "#                             print (skills)\n",
    "             \n",
    "    except:\n",
    "        pass\n",
    "\n",
    "print (cnt.most_common(200)) \n",
    "                    "
   ]
  },
  {
   "cell_type": "code",
   "execution_count": 31,
   "metadata": {
    "collapsed": true
   },
   "outputs": [],
   "source": [
    "import json"
   ]
  },
  {
   "cell_type": "code",
   "execution_count": 32,
   "metadata": {
    "collapsed": true
   },
   "outputs": [],
   "source": [
    "json.dump(cnt,open(\"Count.json\",\"w\"),ensure_ascii=False)"
   ]
  },
  {
   "cell_type": "code",
   "execution_count": null,
   "metadata": {
    "collapsed": true
   },
   "outputs": [],
   "source": []
  }
 ],
 "metadata": {
  "kernelspec": {
   "display_name": "Python 3",
   "language": "python",
   "name": "python3"
  },
  "language_info": {
   "codemirror_mode": {
    "name": "ipython",
    "version": 3
   },
   "file_extension": ".py",
   "mimetype": "text/x-python",
   "name": "python",
   "nbconvert_exporter": "python",
   "pygments_lexer": "ipython3",
   "version": "3.6.1"
  }
 },
 "nbformat": 4,
 "nbformat_minor": 2
}
